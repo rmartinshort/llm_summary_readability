{
 "cells": [
  {
   "cell_type": "code",
   "execution_count": 61,
   "id": "3ab89adb-b57e-4f0e-a5c6-0d454f9bf7b9",
   "metadata": {},
   "outputs": [
    {
     "name": "stdout",
     "output_type": "stream",
     "text": [
      "The autoreload extension is already loaded. To reload it, use:\n",
      "  %reload_ext autoreload\n"
     ]
    }
   ],
   "source": [
    "%load_ext autoreload\n",
    "%autoreload 2"
   ]
  },
  {
   "cell_type": "code",
   "execution_count": 81,
   "id": "9517465b-a282-4412-9faa-eb6d30921bf7",
   "metadata": {},
   "outputs": [],
   "source": [
    "from summary_testing.llm.GeminiCaller import GeminiCaller\n",
    "from summary_testing.dataset_assembly.PatientSummaryGenerator import PatientSummaryGenerator\n",
    "from summary_testing.llm.prompts import SummaryPromptV1, SummaryPromptV0\n",
    "from summary_testing.statistical_tests.dataset_utils import text_analysis, merge_two_summary_datasets\n",
    "from summary_testing.statistical_tests.plotting_utils import readability_change_histogram\n",
    "from summary_testing.statistical_tests.bootstrap import paired_bootstrap_ci, interpret_bootstrap_ci_intervals\n",
    "from summary_testing.statistical_tests.permutation_test import paired_permutation_test, interpret_permutation_test\n",
    "from datasets import load_dataset, concatenate_datasets\n",
    "import numpy as np\n",
    "import os\n",
    "import copy\n",
    "import seaborn as sns\n",
    "from dotenv import load_dotenv"
   ]
  },
  {
   "cell_type": "code",
   "execution_count": 64,
   "id": "411c9853-75f1-4f02-b3d2-192dc3283dbd",
   "metadata": {},
   "outputs": [
    {
     "data": {
      "text/plain": [
       "True"
      ]
     },
     "execution_count": 64,
     "metadata": {},
     "output_type": "execute_result"
    }
   ],
   "source": [
    "load_dotenv()"
   ]
  },
  {
   "cell_type": "code",
   "execution_count": 84,
   "id": "943f6d7c-ddce-44cf-906a-87015bca7a71",
   "metadata": {},
   "outputs": [],
   "source": [
    "def concatenate_fields(example):\n",
    "    example['model_input'] = example['title'] + \"\\n\" + example['patient']\n",
    "    return example\n",
    "    \n",
    "def assemble_example_dataset():\n",
    "\n",
    "    nsample = 250\n",
    "    dataset = load_dataset(\"aisc-team-b1/PMC-Patients\")\n",
    "    random_state = np.random.RandomState(42)\n",
    "    chosen_data = random_state.randint(0, len(dataset[\"train\"]), nsample)\n",
    "    filtered_dataset = dataset[\"train\"].select(chosen_data).select_columns(['patient_id', 'title', 'patient'])\n",
    "    filtered_dataset = filtered_dataset.map(concatenate_fields)\n",
    "    return filtered_dataset\n",
    "\n",
    "def assemble_replicated_dataset():\n",
    "\n",
    "    \"\"\"\n",
    "    For use when we want to estimate the additional uncertainty that comes \n",
    "    from multiple runs of the LLM with the same input and same prompt\n",
    "    \"\"\"\n",
    "\n",
    "    NSAMPLE = 30\n",
    "    NRUNS = 20\n",
    "    dataset = load_dataset(\"aisc-team-b1/PMC-Patients\")\n",
    "    random_state = np.random.RandomState(42)\n",
    "    chosen_data = random_state.randint(0, len(dataset[\"train\"]), NSAMPLE)\n",
    "    filtered_dataset = dataset[\"train\"].select(chosen_data).select_columns(['patient_id', 'title', 'patient'])\n",
    "    replicated_datasets = [filtered_dataset for _ in range(NRUNS)]\n",
    "    replicated_dataset = concatenate_datasets(replicated_datasets)\n",
    "    replicated_dataset = replicated_dataset.map(concatenate_fields)\n",
    "    return replicated_dataset"
   ]
  },
  {
   "cell_type": "code",
   "execution_count": 85,
   "id": "19252bb2-4a89-48a8-9cd6-6d60ca64edb5",
   "metadata": {},
   "outputs": [],
   "source": [
    "example_dataset = assemble_example_dataset()\n",
    "replicated_dataset = assemble_replicated_dataset()"
   ]
  },
  {
   "cell_type": "code",
   "execution_count": 21,
   "id": "02764d91-2d6f-4e31-bf0d-36b578666c08",
   "metadata": {},
   "outputs": [],
   "source": [
    "gemini_api_key = os.environ.get(\"GEMINI_API_KEY\")\n",
    "llm_caller = GeminiCaller(api_key=gemini_api_key,model=\"gemini-2.0-flash\")"
   ]
  },
  {
   "cell_type": "code",
   "execution_count": 24,
   "id": "a0c946fa-d95e-4b67-a76f-e6e23336d969",
   "metadata": {},
   "outputs": [
    {
     "name": "stdout",
     "output_type": "stream",
     "text": [
      "\n",
      "You are a helpful assistant who specializes in summarizing complex medical information at the level a child would understand.\n",
      "You will receive some detailed doctor's notes about a patient from the PMC-Patients dataset and you must summarize it further, following these instructions:\n",
      "\n",
      "- Your summary must capture the most important aspects of the patient summary in fewer than 100 words\n",
      "- Return just the summary with no other commentary\n",
      "- Your summary should be accessible to someone with a 6th grade reading level. Target a Flesch–Kincaid readability score of 80\n",
      "    \n"
     ]
    }
   ],
   "source": [
    "print(SummaryPromptV1.system_message)"
   ]
  },
  {
   "cell_type": "code",
   "execution_count": 31,
   "id": "c3f51cfe-eb25-4696-b76f-1e09944949e3",
   "metadata": {},
   "outputs": [],
   "source": [
    "v1_generator = PatientSummaryGenerator(llm_caller, SummaryPromptV1)\n",
    "v0_generator = PatientSummaryGenerator(llm_caller, SummaryPromptV0)"
   ]
  },
  {
   "cell_type": "markdown",
   "id": "98aed0ae-aa68-4d67-b5e3-29f75fc8b31d",
   "metadata": {},
   "source": [
    "## Generate summaries on dev set for prompt v0"
   ]
  },
  {
   "cell_type": "code",
   "execution_count": 33,
   "id": "0179275f-f25d-41c1-b3a1-c07a0a219bc5",
   "metadata": {},
   "outputs": [
    {
     "name": "stderr",
     "output_type": "stream",
     "text": [
      "Map: 100%|█████████████████████████████████████████████████████████████████████████████████████████████████████████████████████████████| 250/250 [04:28<00:00,  1.08s/ examples]\n",
      "Creating json from Arrow format: 100%|████████████████████████████████████████████████████████████████████████████████████████████████████████████| 1/1 [00:00<00:00, 64.06ba/s]\n"
     ]
    }
   ],
   "source": [
    "dataset_w_summary_v0 = v0_generator.generate(copy.deepcopy(example_dataset), \"datasets/v0_summaries.json\")"
   ]
  },
  {
   "cell_type": "markdown",
   "id": "5fb69c03-44cf-4a82-87d6-15feef8c2198",
   "metadata": {},
   "source": [
    "## Generate summaries on dev set for prompt v1"
   ]
  },
  {
   "cell_type": "code",
   "execution_count": 28,
   "id": "d53ff783-7b31-46ba-a6b4-dda8d2890cec",
   "metadata": {},
   "outputs": [
    {
     "name": "stderr",
     "output_type": "stream",
     "text": [
      "Map: 100%|█████████████████████████████████████████████████████████████████████████████████████████████████████████████████████████████| 250/250 [04:19<00:00,  1.04s/ examples]\n",
      "Creating json from Arrow format: 100%|████████████████████████████████████████████████████████████████████████████████████████████████████████████| 1/1 [00:00<00:00, 55.87ba/s]\n"
     ]
    }
   ],
   "source": [
    "dataset_w_summary_v1 = v1_generator.generate(copy.deepcopy(example_dataset), \"datasets/v1_summaries.json\")"
   ]
  },
  {
   "cell_type": "code",
   "execution_count": 54,
   "id": "e6ee1ce0-b9b8-4f96-b7f0-738902feb4ad",
   "metadata": {},
   "outputs": [],
   "source": [
    "dataset_v0 = load_dataset(\"json\",data_files=\"datasets/v0_summaries.json\")\n",
    "dataset_v1 = load_dataset(\"json\",data_files=\"datasets/v1_summaries.json\")\n",
    "\n",
    "merged_datasets = merge_two_summary_datasets(\n",
    "    dataset_v0,\n",
    "    dataset_v1,\n",
    "    df1_name=\"v0\",\n",
    "    df2_name=\"v1\",\n",
    ")"
   ]
  },
  {
   "cell_type": "code",
   "execution_count": 56,
   "id": "1c2a140c-9828-4509-a06e-738c7702f55b",
   "metadata": {},
   "outputs": [
    {
     "name": "stdout",
     "output_type": "stream",
     "text": [
      "<class 'pandas.core.frame.DataFrame'>\n",
      "RangeIndex: 250 entries, 0 to 249\n",
      "Data columns (total 15 columns):\n",
      " #   Column                          Non-Null Count  Dtype  \n",
      "---  ------                          --------------  -----  \n",
      " 0   patient_id                      250 non-null    int64  \n",
      " 1   model_input                     250 non-null    object \n",
      " 2   input_flesch_reading_ease       250 non-null    float64\n",
      " 3   input_syllables_per_word        250 non-null    float64\n",
      " 4   input_words_per_sentence        250 non-null    float64\n",
      " 5   v0_summary                      250 non-null    object \n",
      " 6   v1_summary                      250 non-null    object \n",
      " 7   v0_summary_flesch_reading_ease  250 non-null    float64\n",
      " 8   v1_summary_flesch_reading_ease  250 non-null    float64\n",
      " 9   v0_summary_syllables_per_word   250 non-null    float64\n",
      " 10  v1_summary_syllables_per_word   250 non-null    float64\n",
      " 11  v0_summary_words_per_sentence   250 non-null    float64\n",
      " 12  v1_summary_words_per_sentence   250 non-null    float64\n",
      " 13  v0_total_cost                   250 non-null    float64\n",
      " 14  v1_total_cost                   250 non-null    float64\n",
      "dtypes: float64(11), int64(1), object(3)\n",
      "memory usage: 29.4+ KB\n"
     ]
    }
   ],
   "source": [
    "merged_datasets.info()"
   ]
  },
  {
   "cell_type": "code",
   "execution_count": 59,
   "id": "de216921-5dc7-4164-b761-bb147ec093ad",
   "metadata": {},
   "outputs": [
    {
     "data": {
      "image/png": "[encoded data removed]",
      "text/plain": [
       "<Figure size 640x480 with 1 Axes>"
      ]
     },
     "metadata": {},
     "output_type": "display_data"
    }
   ],
   "source": [
    "readability_change_histogram(\n",
    "    merged_datasets,\n",
    "    x=\"v0_summary_flesch_reading_ease\",\n",
    "    y=\"v1_summary_flesch_reading_ease\"\n",
    ")"
   ]
  },
  {
   "cell_type": "code",
   "execution_count": 68,
   "id": "23102f0e-ff95-47a0-b3c8-7666a75aceb9",
   "metadata": {},
   "outputs": [
    {
     "name": "stdout",
     "output_type": "stream",
     "text": [
      "The mean readability change is 53.40 (positive means increasing readability)\n",
      "The paired permutation test p value is 0.000\n",
      "This means we reject the null hypothesis and conclude that there is a positive change in readability\n"
     ]
    }
   ],
   "source": [
    "permutation_results = paired_permutation_test(\n",
    "    x = merged_datasets[\"v0_summary_flesch_reading_ease\"],\n",
    "    y = merged_datasets[\"v1_summary_flesch_reading_ease\"],\n",
    "    difference_statistic=np.mean\n",
    ")\n",
    "permutation_results\n",
    "interpret_permutation_test(\n",
    "    statistic=permutation_results[\"test_statistic\"],\n",
    "    p_value=permutation_results[\"p_value\"],\n",
    "    p_value_threshold=0.05\n",
    ")"
   ]
  },
  {
   "cell_type": "code",
   "execution_count": 70,
   "id": "55eb6a2b-7e4e-48a5-85d7-94ce913bbee9",
   "metadata": {},
   "outputs": [
    {
     "name": "stdout",
     "output_type": "stream",
     "text": [
      "The mean readability change is 53.40 (positive means increasing readability)\n",
      "The paired bootstrap confidence range is 51.536 to 55.275\n",
      "This suggests we should reject the null hypothesis and conclude there was a meaningful positive change in readability\n"
     ]
    }
   ],
   "source": [
    "bootstrap_results = paired_bootstrap_ci(\n",
    "    x = merged_datasets[\"v0_summary_flesch_reading_ease\"],\n",
    "    y = merged_datasets[\"v1_summary_flesch_reading_ease\"],\n",
    "    difference_statistic=np.mean\n",
    ")\n",
    "interpret_bootstrap_ci_intervals(\n",
    "    statistic=bootstrap_results[\"test_statistic\"],\n",
    "    ci_lower=bootstrap_results[\"confidence_interval\"][0],\n",
    "    ci_upper=bootstrap_results[\"confidence_interval\"][1]\n",
    ")"
   ]
  },
  {
   "cell_type": "markdown",
   "id": "dec174c3-2e9c-4918-9f04-49505fc4e785",
   "metadata": {},
   "source": [
    "## Generate summaries for replicated dataset\n",
    "May take some time. Be aware of API costs"
   ]
  },
  {
   "cell_type": "code",
   "execution_count": 86,
   "id": "04022b19-e299-4aaf-8460-b9f46bb53ade",
   "metadata": {},
   "outputs": [
    {
     "name": "stderr",
     "output_type": "stream",
     "text": [
      "Map: 100%|█████████████████████████████████████████████████████████████████████████████████████████████████████████████████████████████| 600/600 [10:37<00:00,  1.06s/ examples]\n",
      "Creating json from Arrow format: 100%|████████████████████████████████████████████████████████████████████████████████████████████████████████████| 1/1 [00:00<00:00, 48.44ba/s]\n"
     ]
    }
   ],
   "source": [
    "dataset_w_summary_replicated_v1 = v1_generator.generate(\n",
    "    copy.deepcopy(replicated_dataset), \n",
    "    \"v1_summaries_replicated_temp_1.json\",\n",
    "    temperature=1\n",
    ")"
   ]
  },
  {
   "cell_type": "code",
   "execution_count": 87,
   "id": "bd06c7bb-74e9-4c7b-91eb-91f2b3b0b452",
   "metadata": {},
   "outputs": [
    {
     "name": "stderr",
     "output_type": "stream",
     "text": [
      "Map: 100%|███████████████████████████████████████████████████████████████████████████████████████████████████████████████████████████| 600/600 [00:00<00:00, 3748.01 examples/s]\n"
     ]
    }
   ],
   "source": [
    "dataset_w_summary_replicated_v1_stats = dataset_w_summary_replicated_v1.map(\n",
    "    text_analysis, fn_kwargs={\"model\":\"gemini-flash-2.0\"}\n",
    ")"
   ]
  },
  {
   "cell_type": "code",
   "execution_count": 88,
   "id": "7325ad8b-f2fb-44e0-af0e-99947fb99b04",
   "metadata": {},
   "outputs": [],
   "source": [
    "df_replicated_v1 = dataset_w_summary_replicated_v1_stats.to_pandas()\n",
    "df_replicated_v1_stats = df_replicated_v1.groupby(\"patient_id\").agg(\n",
    "    mean=(\"summary_flesch_reading_ease\", \"mean\"),\n",
    "    std=(\"summary_flesch_reading_ease\", \"std\")\n",
    ").reset_index()"
   ]
  },
  {
   "cell_type": "code",
   "execution_count": 89,
   "id": "95d349d1-0c43-4600-b3d2-59744bb98f45",
   "metadata": {},
   "outputs": [
    {
     "data": {
      "text/plain": [
       "Text(0.5, 0, 'Standard deviation')"
      ]
     },
     "execution_count": 89,
     "metadata": {},
     "output_type": "execute_result"
    },
    {
     "data": {
      "image/png": "[encoded data removed]",
      "text/plain": [
       "<Figure size 640x480 with 1 Axes>"
      ]
     },
     "metadata": {},
     "output_type": "display_data"
    }
   ],
   "source": [
    "df = df_replicated_v1_stats.copy()\n",
    "ax = sns.histplot(\n",
    "    x=\"std\",\n",
    "    data=df,\n",
    "    binwidth=0.5,\n",
    "    label=\"prompt v1, temp=1\",\n",
    "    color=\"blue\",\n",
    "    alpha=0.5\n",
    ")\n",
    "ax.axvline(\n",
    "    x=df[\"std\"].mean(),\n",
    "    linestyle=\"--\", \n",
    "    color=\"blue\", \n",
    "    label=\"Mean v1: {:.2f}\".format(df[\"std\"].mean())\n",
    ")\n",
    "ax.legend()\n",
    "ax.set_title(\"Variation of score for each summary (temperature = 1)\")\n",
    "ax.set_xlabel(\"Standard deviation\")"
   ]
  }
 ],
 "metadata": {
  "kernelspec": {
   "display_name": "Python 3 (ipykernel)",
   "language": "python",
   "name": "python3"
  },
  "language_info": {
   "codemirror_mode": {
    "name": "ipython",
    "version": 3
   },
   "file_extension": ".py",
   "mimetype": "text/x-python",
   "name": "python",
   "nbconvert_exporter": "python",
   "pygments_lexer": "ipython3",
   "version": "3.12.6"
  }
 },
 "nbformat": 4,
 "nbformat_minor": 5
}
